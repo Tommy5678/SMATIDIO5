{
 "cells": [
  {
   "cell_type": "code",
   "execution_count": 9,
   "id": "9aabf0b0",
   "metadata": {},
   "outputs": [
    {
     "name": "stdout",
     "output_type": "stream",
     "text": [
      "Requirement already satisfied: selenium in c:\\users\\divya\\py_anaconda\\sample_project_1\\env\\lib\\site-packages (3.141.0)\n",
      "Requirement already satisfied: urllib3 in c:\\users\\divya\\py_anaconda\\sample_project_1\\env\\lib\\site-packages (from selenium) (1.26.16)\n"
     ]
    }
   ],
   "source": [
    "!pip install selenium\n"
   ]
  },
  {
   "cell_type": "code",
   "execution_count": null,
   "id": "f725478f",
   "metadata": {},
   "outputs": [],
   "source": [
    "# Import necessary modules\n",
    "from selenium import webdriver\n",
    "from selenium.webdriver.common.by import By\n",
    "from selenium.webdriver.common.keys import Keys\n",
    "from selenium.webdriver.chrome.options import Options  # Import Options\n",
    "from selenium.webdriver.support.ui import WebDriverWait\n",
    "from selenium.webdriver.support import expected_conditions as EC\n",
    "from time import sleep\n",
    "\n",
    "# Set Chrome driver path\n",
    "PATH = r\"C:\\Users\\divya\\Downloads\\chromedriver-win64\\chromedriver-win64\\chromedriver.exe\"\n",
    "\n",
    "# Create ChromeOptions object\n",
    "chrome_options = Options()\n",
    "# Add any desired options here:\n",
    "# chrome_options.add_argument(\"--headless\")  # Uncomment if you want to run Chrome in headless mode\n",
    "\n",
    "# Instantiate Chrome WebDriver with options\n",
    "driver = webdriver.Chrome(options=chrome_options)  # Remove executable_path argument\n",
    "\n",
    "# Proceed with your existing code below...\n",
    "\n",
    "driver.get(\"https://twitter.com/login\")\n",
    "\n",
    "# Setup the login\n",
    "sleep(3)\n",
    "username = driver.find_element(By.XPATH, \"//input[@name='text']\")\n",
    "username.send_keys(\"Sravya1587571\")\n",
    "next_button = driver.find_element(By.XPATH, \"//span[contains(text(),'Next')]\")\n",
    "next_button.click()\n",
    "\n",
    "sleep(3)\n",
    "password = driver.find_element(By.XPATH, \"//input[@name='password']\")\n",
    "password.send_keys('Sravya2311')\n",
    "log_in = driver.find_element(By.XPATH, \"//span[contains(text(),'Log in')]\")\n",
    "log_in.click()\n",
    "\n",
    "# Search item and fetch it\n",
    "sleep(3)\n",
    "subject = \"Elon Musk\"\n",
    "search_box = driver.find_element(By.XPATH, \"//input[@data-testid='SearchBox_Search_Input']\")\n",
    "search_box.send_keys(subject)\n",
    "search_box.send_keys(Keys.ENTER)\n",
    "\n",
    "sleep(3)\n",
    "people = driver.find_element(By.XPATH, \"//span[contains(text(),'People')]\")\n",
    "people.click()\n",
    "\n",
    "# Wait for the presence of the element\n",
    "WebDriverWait(driver, 20).until(EC.presence_of_element_located((By.XPATH, \"//*[@id='react-root']/div/div/div[2]/main/div/div/div/div/div/div[3]/section/div/div/div[1]/div/div/div/div/div[2]/div/div[1]/div/div[1]/a/div/div[1]/span/span[1]\")))\n",
    "\n",
    "# Then proceed to locate and interact with the element\n",
    "profile = driver.find_element(By.XPATH, \"//*[@id='react-root']/div/div/div[2]/main/div/div/div/div/div/div[3]/section/div/div/div[1]/div/div/div/div/div[2]/div/div[1]/div/div[1]/a/div/div[1]/span/span[1]\")\n",
    "profile.click()\n",
    "\n",
    "\n",
    "\n",
    "# UserTag = driver.find_element(By.XPATH,\"//div[@data-testid='User-Names']\").text\n",
    "# TimeStamp = driver.find_element(By.XPATH,\"//time\").get_attribute('datetime')\n",
    "# Tweet = driver.find_element(By.XPATH,\"//div[@data-testid='tweetText']\").text\n",
    "# Reply = driver.find_element(By.XPATH,\"//div[@data-testid='reply']\").text\n",
    "# reTweet = driver.find_element(By.XPATH,\"//div[@data-testid='retweet']\").text\n",
    "# Like = driver.find_element(By.XPATH,\"//div[@data-testid='like']\").text\n",
    "\n",
    "\n",
    "UserTags=[]\n",
    "TimeStamps=[]\n",
    "Tweets=[]\n",
    "Replys=[]\n",
    "reTweets=[]\n",
    "Likes=[]\n",
    "articles = driver.find_elements(By.XPATH,\"//article[@data-testid='tweet']\")\n",
    "while True:\n",
    "    for article in articles:\n",
    "        UserTag = driver.find_element(By.XPATH,\"//div[@data-testid='User-Name']\").text\n",
    "        UserTags.append(UserTag)\n",
    "        \n",
    "        TimeStamp = driver.find_element(By.XPATH,\"//time\").get_attribute('datetime')\n",
    "        TimeStamps.append(TimeStamp)\n",
    "        \n",
    "        Tweet = driver.find_element(By.XPATH,\"//div[@data-testid='tweetText']\").text\n",
    "        Tweets.append(Tweet)\n",
    "        \n",
    "        Reply = driver.find_element(By.XPATH,\"//div[@data-testid='reply']\").text\n",
    "        Replys.append(Reply)\n",
    "        \n",
    "        reTweet = driver.find_element(By.XPATH,\"//div[@data-testid='retweet']\").text\n",
    "        reTweets.append(reTweet)\n",
    "        \n",
    "        Like = driver.find_element(By.XPATH,\"//div[@data-testid='like']\").text\n",
    "        Likes.append(Like)\n",
    "    driver.execute_script('window.scrollTo(0,document.body.scrollHeight);')\n",
    "    sleep(3)\n",
    "    articles = driver.find_elements(By.XPATH,\"//article[@data-testid='tweet']\")\n",
    "    Tweets2 = list(set(Tweets))\n",
    "    if len(Tweets2) > 10:\n",
    "        break\n",
    "\n",
    "\n",
    "print(len(UserTags),\n",
    "len(TimeStamps),\n",
    "len(Tweets),\n",
    "len(Replys),\n",
    "len(reTweets),\n",
    "len(Likes))"
   ]
  },
  {
   "cell_type": "code",
   "execution_count": null,
   "id": "46ec19a5",
   "metadata": {
    "scrolled": true
   },
   "outputs": [],
   "source": [
    "\n"
   ]
  },
  {
   "cell_type": "code",
   "execution_count": null,
   "id": "010aa639",
   "metadata": {},
   "outputs": [],
   "source": []
  },
  {
   "cell_type": "code",
   "execution_count": null,
   "id": "97721720",
   "metadata": {},
   "outputs": [],
   "source": []
  },
  {
   "cell_type": "code",
   "execution_count": 11,
   "id": "9f269a3a",
   "metadata": {},
   "outputs": [
    {
     "data": {
      "text/plain": [
       "0"
      ]
     },
     "execution_count": 11,
     "metadata": {},
     "output_type": "execute_result"
    }
   ],
   "source": [
    "import pandas as pd\n",
    "\n",
    "df = pd.DataFrame(zip(UserTags, TimeStamps, Tweets, Replys, reTweets, Likes),\n",
    "                  columns=['UserTags', 'TimeStamps', 'Tweets', 'Replys', 'reTweets', 'Likes'])\n",
    "\n",
    "df.head()\n",
    "\n",
    "df.to_excel(r\"C:\\Users\\divya\\Downloads\\tweet.xlsx\", index=False)\n",
    "\n",
    "import os\n",
    "os.system('start \"excel\" \"C:\\\\Users\\\\divya\\\\Downloads\\\\tweet.xlsx\"')\n"
   ]
  },
  {
   "cell_type": "code",
   "execution_count": 4,
   "id": "9ef0b8ab",
   "metadata": {},
   "outputs": [
    {
     "data": {
      "text/plain": [
       "0"
      ]
     },
     "execution_count": 4,
     "metadata": {},
     "output_type": "execute_result"
    }
   ],
   "source": [
    "import pandas as pd\n",
    "\n",
    "df = pd.DataFrame(zip(UserTags, TimeStamps, Tweets, Replys, reTweets, Likes),\n",
    "                  columns=['UserTags', 'TimeStamps', 'Tweets', 'Replys', 'reTweets', 'Likes'])\n",
    "\n",
    "df.head()\n",
    "\n",
    "df.to_excel(r\"C:\\Users\\divya\\Downloads\\tryonemore.xlsx\", index=False)\n",
    "\n",
    "import os\n",
    "os.system('start \"excel\" \"C:\\\\Users\\\\divya\\\\Downloads\\\\tryonemore.xlsx\"')\n"
   ]
  },
  {
   "cell_type": "code",
   "execution_count": null,
   "id": "2cc37a2f",
   "metadata": {},
   "outputs": [],
   "source": []
  },
  {
   "cell_type": "code",
   "execution_count": null,
   "id": "cef2a486",
   "metadata": {},
   "outputs": [],
   "source": []
  },
  {
   "cell_type": "code",
   "execution_count": null,
   "id": "dd999d58",
   "metadata": {},
   "outputs": [],
   "source": []
  },
  {
   "cell_type": "code",
   "execution_count": 3,
   "id": "10845281",
   "metadata": {},
   "outputs": [],
   "source": []
  },
  {
   "cell_type": "code",
   "execution_count": null,
   "id": "ec1e4fc5",
   "metadata": {},
   "outputs": [],
   "source": []
  },
  {
   "cell_type": "code",
   "execution_count": null,
   "id": "d0d26f42",
   "metadata": {},
   "outputs": [],
   "source": []
  },
  {
   "cell_type": "code",
   "execution_count": null,
   "id": "717d3148",
   "metadata": {},
   "outputs": [],
   "source": []
  },
  {
   "cell_type": "code",
   "execution_count": null,
   "id": "447e1aa9",
   "metadata": {},
   "outputs": [],
   "source": []
  },
  {
   "cell_type": "code",
   "execution_count": null,
   "id": "333a96e7",
   "metadata": {},
   "outputs": [],
   "source": []
  },
  {
   "cell_type": "code",
   "execution_count": null,
   "id": "78b5a453",
   "metadata": {},
   "outputs": [],
   "source": []
  },
  {
   "cell_type": "code",
   "execution_count": null,
   "id": "4de3db5e",
   "metadata": {},
   "outputs": [],
   "source": []
  },
  {
   "cell_type": "code",
   "execution_count": null,
   "id": "5b16dd1c",
   "metadata": {},
   "outputs": [],
   "source": []
  },
  {
   "cell_type": "code",
   "execution_count": null,
   "id": "9d510f39",
   "metadata": {},
   "outputs": [],
   "source": []
  },
  {
   "cell_type": "code",
   "execution_count": null,
   "id": "e322813b",
   "metadata": {},
   "outputs": [],
   "source": []
  },
  {
   "cell_type": "code",
   "execution_count": null,
   "id": "d6e38943",
   "metadata": {},
   "outputs": [],
   "source": []
  },
  {
   "cell_type": "code",
   "execution_count": null,
   "id": "53d76e90",
   "metadata": {},
   "outputs": [],
   "source": []
  },
  {
   "cell_type": "code",
   "execution_count": null,
   "id": "86e1bc51",
   "metadata": {},
   "outputs": [],
   "source": []
  },
  {
   "cell_type": "code",
   "execution_count": null,
   "id": "83bcb943",
   "metadata": {},
   "outputs": [],
   "source": []
  },
  {
   "cell_type": "code",
   "execution_count": null,
   "id": "5b8cb7e2",
   "metadata": {},
   "outputs": [],
   "source": []
  },
  {
   "cell_type": "code",
   "execution_count": null,
   "id": "e94419c9",
   "metadata": {},
   "outputs": [],
   "source": []
  },
  {
   "cell_type": "code",
   "execution_count": null,
   "id": "d793d4ac",
   "metadata": {},
   "outputs": [],
   "source": []
  },
  {
   "cell_type": "code",
   "execution_count": null,
   "id": "c5d579df",
   "metadata": {},
   "outputs": [],
   "source": []
  },
  {
   "cell_type": "code",
   "execution_count": null,
   "id": "29ca7a0a",
   "metadata": {},
   "outputs": [],
   "source": []
  },
  {
   "cell_type": "code",
   "execution_count": null,
   "id": "fe48de21",
   "metadata": {},
   "outputs": [],
   "source": []
  },
  {
   "cell_type": "code",
   "execution_count": null,
   "id": "52ba6544",
   "metadata": {},
   "outputs": [],
   "source": []
  },
  {
   "cell_type": "code",
   "execution_count": null,
   "id": "403955fa",
   "metadata": {},
   "outputs": [],
   "source": []
  },
  {
   "cell_type": "code",
   "execution_count": null,
   "id": "93a4a6c6",
   "metadata": {},
   "outputs": [],
   "source": []
  },
  {
   "cell_type": "code",
   "execution_count": null,
   "id": "35681d94",
   "metadata": {},
   "outputs": [],
   "source": []
  },
  {
   "cell_type": "code",
   "execution_count": null,
   "id": "61cccefb",
   "metadata": {},
   "outputs": [],
   "source": []
  },
  {
   "cell_type": "code",
   "execution_count": null,
   "id": "7438adb0",
   "metadata": {},
   "outputs": [],
   "source": []
  }
 ],
 "metadata": {
  "kernelspec": {
   "display_name": "Python 3 (ipykernel)",
   "language": "python",
   "name": "python3"
  },
  "language_info": {
   "codemirror_mode": {
    "name": "ipython",
    "version": 3
   },
   "file_extension": ".py",
   "mimetype": "text/x-python",
   "name": "python",
   "nbconvert_exporter": "python",
   "pygments_lexer": "ipython3",
   "version": "3.11.4"
  }
 },
 "nbformat": 4,
 "nbformat_minor": 5
}
